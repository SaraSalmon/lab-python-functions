{
 "cells": [
  {
   "cell_type": "markdown",
   "id": "25d7736c-ba17-4aff-b6bb-66eba20fbf4e",
   "metadata": {},
   "source": [
    "# Lab | Functions"
   ]
  },
  {
   "cell_type": "markdown",
   "id": "0c581062-8967-4d93-b06e-62833222f930",
   "metadata": {
    "tags": []
   },
   "source": [
    "## Exercise: Managing Customer Orders with Functions\n",
    "\n",
    "In the previous exercise, you improved the code for managing customer orders by using loops and flow control. Now, let's take it a step further and refactor the code by introducing functions.\n",
    "\n",
    "Follow the steps below to complete the exercise:\n",
    "\n",
    "1. Define a function named `initialize_inventory` that takes `products` as a parameter. Inside the function, implement the code for initializing the inventory dictionary using a loop and user input.\n",
    "\n",
    "2. Define a function named `get_customer_orders` that takes no parameters. Inside the function, implement the code for prompting the user to enter the product names using a loop. The function should return the `customer_orders` set.\n",
    "\n",
    "3. Define a function named `update_inventory` that takes `customer_orders` and `inventory` as parameters. Inside the function, implement the code for updating the inventory dictionary based on the customer orders.\n",
    "\n",
    "4. Define a function named `calculate_order_statistics` that takes `customer_orders` and `products` as parameters. Inside the function, implement the code for calculating the order statistics (total products ordered, and percentage of unique products ordered). The function should return these values.\n",
    "\n",
    "5. Define a function named `print_order_statistics` that takes `order_statistics` as a parameter. Inside the function, implement the code for printing the order statistics.\n",
    "\n",
    "6. Define a function named `print_updated_inventory` that takes `inventory` as a parameter. Inside the function, implement the code for printing the updated inventory.\n",
    "\n",
    "7. Call the functions in the appropriate sequence to execute the program and manage customer orders.\n",
    "\n",
    "Hints for functions:\n",
    "\n",
    "- Consider the input parameters required for each function and their return values.\n",
    "- Utilize function parameters and return values to transfer data between functions.\n",
    "- Test your functions individually to ensure they work correctly.\n",
    "\n",
    "\n"
   ]
  },
  {
   "cell_type": "markdown",
   "id": "44472b10-0b19-4c7f-986d-7a5ab7fae408",
   "metadata": {},
   "source": [
    "1. Define a function named initialize_inventory that takes products as a parameter. Inside the function, implement the code for initializing the inventory dictionary using a loop and user input."
   ]
  },
  {
   "cell_type": "code",
   "execution_count": 81,
   "id": "3e56c83f-9a8f-4fca-a729-83b5068193c3",
   "metadata": {},
   "outputs": [
    {
     "name": "stdin",
     "output_type": "stream",
     "text": [
      "Please, enter the quantity of t-shirt: 1\n",
      "Please, enter the quantity of mug: 2\n",
      "Please, enter the quantity of hat: 3\n",
      "Please, enter the quantity of book: 4\n",
      "Please, enter the quantity of keychain: 5\n"
     ]
    },
    {
     "data": {
      "text/plain": [
       "{'t-shirt': 1, 'mug': 2, 'hat': 3, 'book': 4, 'keychain': 5}"
      ]
     },
     "execution_count": 81,
     "metadata": {},
     "output_type": "execute_result"
    }
   ],
   "source": [
    "products = [\"t-shirt\", \"mug\", \"hat\", \"book\", \"keychain\"]\n",
    "inventory = {}\n",
    "\n",
    "def initialize_inventory(products):\n",
    "    \"\"\" Función para actualizar el inventario en base a los pedidos del cliente \"\"\"\n",
    "    for product in products:\n",
    "        inventory[product]=int(input(\"Please, enter the quantity of\" +\" \" + product + \":\"))\n",
    "    return inventory\n",
    "\n",
    "inventory = initialize_inventory(product_list)\n",
    "inventory"
   ]
  },
  {
   "cell_type": "markdown",
   "id": "4da57e91-217e-49ef-b1bf-77cd0fc41b02",
   "metadata": {},
   "source": [
    "2. Define a function named get_customer_orders that takes no parameters. Inside the function, implement the code for prompting the user to enter the product names using a loop. The function should return the customer_orders set."
   ]
  },
  {
   "cell_type": "code",
   "execution_count": 99,
   "id": "d245d9c1-2d00-424b-ab5c-a7c6bd8308e8",
   "metadata": {},
   "outputs": [
    {
     "name": "stdin",
     "output_type": "stream",
     "text": [
      "Input the name of a product you want to order from the product list:  hat\n"
     ]
    },
    {
     "data": {
      "text/plain": [
       "{'hat'}"
      ]
     },
     "execution_count": 99,
     "metadata": {},
     "output_type": "execute_result"
    }
   ],
   "source": [
    "customer_orders=set()\n",
    "\n",
    "def get_customer_orders():\n",
    "    \"\"\" Función para solicitar al usuario que introduzca los nombres de los productos y que devuelva el set del pedido del cliente \"\"\"\n",
    "    for product in inventory:\n",
    "        product = input(\"Input the name of a product you want to order from the product list: \")\n",
    "        customer_orders.add(product)\n",
    "        return customer_orders\n",
    "\n",
    "customer_orders = get_customer_orders()\n",
    "customer_orders"
   ]
  },
  {
   "cell_type": "markdown",
   "id": "3465b940-2d6c-4302-a8ee-ab1942cb1225",
   "metadata": {},
   "source": [
    "3. Define a function named update_inventory that takes customer_orders and inventory as parameters. Inside the function, implement the code for updating the inventory dictionary based on the customer orders."
   ]
  },
  {
   "cell_type": "code",
   "execution_count": 89,
   "id": "853f66fa-6102-402b-9dbc-00748d04d306",
   "metadata": {},
   "outputs": [
    {
     "data": {
      "text/plain": [
       "{'t-shirt': 1, 'mug': 2, 'hat': 0, 'book': 4, 'keychain': 5}"
      ]
     },
     "execution_count": 89,
     "metadata": {},
     "output_type": "execute_result"
    }
   ],
   "source": [
    "def update_inventory(customer_orders, inventory):\n",
    "    \"\"\" Función para actualizar el inventario en base a las ordenes de pedido del cliente \"\"\"\n",
    "    for product in customer_orders: \n",
    "        if product in inventory: \n",
    "            inventory[product] -= 1\n",
    "    return inventory\n",
    "\n",
    "inventory = update_inventory(customer_orders, inventory)\n",
    "inventory"
   ]
  },
  {
   "cell_type": "markdown",
   "id": "c39b467e-7517-4c1a-abb0-9a458a09d54e",
   "metadata": {},
   "source": [
    "4. Define a function named calculate_order_statistics that takes customer_orders and products as parameters. Inside the function, implement the code for calculating the order statistics (total products ordered, and percentage of unique products ordered). The function should return these values."
   ]
  },
  {
   "cell_type": "code",
   "execution_count": 79,
   "id": "fa55c79f-d5ad-42e2-9111-403754b5f726",
   "metadata": {},
   "outputs": [
    {
     "data": {
      "text/plain": [
       "(1, 20.0)"
      ]
     },
     "execution_count": 79,
     "metadata": {},
     "output_type": "execute_result"
    }
   ],
   "source": [
    "def calculate_order_statistics (customer_orders, products):\n",
    "    \"\"\" Función para calcular las estadísticas de los productos pedidos y el porcentaje de los mismos \"\"\"\n",
    "    total_products_ordered = len(customer_orders)\n",
    "    percentage_product_ordered=((len(customer_orders))/(len(inventory)))*100\n",
    "    return total_products_ordered, percentage_product_ordered\n",
    "\n",
    "order_statistics = calculate_order_statistics (customer_orders, products)\n",
    "order_statistics"
   ]
  },
  {
   "cell_type": "markdown",
   "id": "2b89a0b1-e880-4e74-b3ce-98b742e96906",
   "metadata": {},
   "source": [
    "5. Define a function named print_order_statistics that takes order_statistics as a parameter. Inside the function, implement the code for printing the order statistics."
   ]
  },
  {
   "cell_type": "code",
   "execution_count": 97,
   "id": "cee8824c-82cd-4ddc-8694-0d319e403c81",
   "metadata": {},
   "outputs": [
    {
     "name": "stdout",
     "output_type": "stream",
     "text": [
      "Total Products Ordered: 1 and the Percentage of Products Ordered: 20.0\n"
     ]
    }
   ],
   "source": [
    "def print_order_statistics (order_statistics):\n",
    "    \"\"\" Función para imprimir las estadísticas de pedidos \"\"\"\n",
    "    print(f\"Total Products Ordered: {order_statistics[0]}\" f\" and the Percentage of Products Ordered: {order_statistics[1]}\")\n",
    "    return \n",
    "\n",
    "print_order_statistics (order_statistics)"
   ]
  },
  {
   "cell_type": "markdown",
   "id": "421ee7db-deeb-45a0-9118-2da48baf5ebf",
   "metadata": {},
   "source": [
    "6. Define a function named print_updated_inventory that takes inventory as a parameter. Inside the function, implement the code for printing the updated inventory."
   ]
  },
  {
   "cell_type": "code",
   "execution_count": 101,
   "id": "14953084-cc9c-490a-9c36-3fe2dc5b2d11",
   "metadata": {},
   "outputs": [
    {
     "name": "stdout",
     "output_type": "stream",
     "text": [
      "{'t-shirt': 1, 'mug': 2, 'hat': 0, 'book': 4, 'keychain': 5}\n"
     ]
    }
   ],
   "source": [
    "def print_updated_inventory (inventory):\n",
    "    \"\"\" Función para imprimir el inventario actualizado \"\"\"\n",
    "    print(inventory)\n",
    "    return inventory\n",
    "\n",
    "inventory = print_updated_inventory (inventory)"
   ]
  },
  {
   "cell_type": "markdown",
   "id": "2e51f4c6-c387-4853-9b5b-2ea273effb10",
   "metadata": {},
   "source": [
    "7. Call the functions in the appropriate sequence to execute the program and manage customer orders."
   ]
  },
  {
   "cell_type": "code",
   "execution_count": 103,
   "id": "2230e0bb-ead9-4597-90a3-e38175707e84",
   "metadata": {},
   "outputs": [
    {
     "name": "stdin",
     "output_type": "stream",
     "text": [
      "Please, enter the quantity of t-shirt: 1\n",
      "Please, enter the quantity of mug: 2\n",
      "Please, enter the quantity of hat: 3\n",
      "Please, enter the quantity of book: 4\n",
      "Please, enter the quantity of keychain: 5\n",
      "Input the name of a product you want to order from the product list:  hat\n"
     ]
    },
    {
     "name": "stdout",
     "output_type": "stream",
     "text": [
      "Total Products Ordered: 1 and the Percentage of Products Ordered: 20.0\n",
      "{'t-shirt': 1, 'mug': 2, 'hat': 2, 'book': 4, 'keychain': 5}\n"
     ]
    }
   ],
   "source": [
    "inventory = initialize_inventory(product_list)\n",
    "\n",
    "customer_orders = get_customer_orders()\n",
    "\n",
    "inventory = update_inventory(customer_orders, inventory)\n",
    "\n",
    "order_statistics = calculate_order_statistics (customer_orders, products)\n",
    "\n",
    "print_order_statistics (order_statistics)\n",
    "\n",
    "inventory = print_updated_inventory (inventory)"
   ]
  }
 ],
 "metadata": {
  "kernelspec": {
   "display_name": "Python 3 (ipykernel)",
   "language": "python",
   "name": "python3"
  },
  "language_info": {
   "codemirror_mode": {
    "name": "ipython",
    "version": 3
   },
   "file_extension": ".py",
   "mimetype": "text/x-python",
   "name": "python",
   "nbconvert_exporter": "python",
   "pygments_lexer": "ipython3",
   "version": "3.12.4"
  }
 },
 "nbformat": 4,
 "nbformat_minor": 5
}
